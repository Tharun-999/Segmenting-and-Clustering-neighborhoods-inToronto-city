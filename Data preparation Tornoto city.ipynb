{
 "cells": [
  {
   "cell_type": "markdown",
   "metadata": {},
   "source": [
    "# The Battle of the Neighborhoods - Week 1"
   ]
  },
  {
   "cell_type": "markdown",
   "metadata": {},
   "source": [
    "# Data :"
   ]
  },
  {
   "cell_type": "markdown",
   "metadata": {},
   "source": [
    "One city will be analysed in this project : Tornto City.\n",
    "\n",
    "We will be using the below datasets for analysing Toronto city\n"
   ]
  },
  {
   "cell_type": "markdown",
   "metadata": {},
   "source": [
    "# Data 1 :\n",
    "Neighborhood has a total of 5 boroughs and 306 neighborhoods. In order to segement the neighborhoods and explore them, we will essentially need a dataset that contains the 5 boroughs and the neighborhoods that exist in each borough as well as the the latitude and logitude coordinates of each neighborhood."
   ]
  },
  {
   "cell_type": "markdown",
   "metadata": {},
   "source": [
    "This dataset exists for free on the web. Link to the dataset is : https://en.wikipedia.org/wiki/List_of_postal_codes_of_Canada:_M\n"
   ]
  },
  {
   "cell_type": "markdown",
   "metadata": {},
   "source": [
    "# Data 2 : \n",
    "\n",
    "Second data which will be used is the DOHMH Farmers Markets and Food Boxes dataset. In this we will be using the data of Farmers Markets.\n",
    "\n",
    "Website-https://www.grownyc.org/greenmarketco/foodbox\n",
    "\n",
    "GrowNYC's Fresh Food Box Program is a food access initiative that enables under-served communities to purchase fresh, healthy, and primarily regionally grown produce well below traditional retail prices.\n",
    "\n",
    "A farmers' market is often defined as a public site used by two or more local or regional producers for the direct sale of farm products to consumers. In addition to fresh fruits and vegetables, markets may sell dairy products, fish, meat, baked goods, and other minimally processed foods.\n"
   ]
  },
  {
   "cell_type": "markdown",
   "metadata": {},
   "source": [
    "# Data 3 : \n",
    "\n",
    "For the below analysis we will get data from wikipedia as given below : \n",
    "    1. Toronto Population \n",
    "    2. Toronto City Demographics \n",
    "    3. Cuisine of Toronto city \n",
    "https://en.wikipedia.org/wiki/Toronto#Neighbourhoods\n",
    "\n",
    "https://en.wikipedia.org/wiki/Toronto#Climate\n",
    "\n",
    "https://en.wikipedia.org/wiki/Toronto#Culture\n"
   ]
  },
  {
   "cell_type": "markdown",
   "metadata": {},
   "source": [
    "# Data 4 : \n",
    "Toronto city geographical coordinates data will be utilized as input for the Foursquare API, that will be leveraged to provision venues information for each neighborhood.We will use the Foursquare API to explore neighborhoods in Toronto City. The below is image of the Foursquare API data."
   ]
  },
  {
   "cell_type": "markdown",
   "metadata": {},
   "source": [
    " \n",
    "Neighborhood\n",
    "\n",
    "Neighborhood Latitude\n",
    "\n",
    "Neighborhood Longitude\n",
    "\n",
    "Venue\n",
    "\n",
    "Venue Latitude\n",
    "\n",
    "Venue Longitude\n",
    "\n",
    "Venue Category\n",
    "\n",
    "0\n",
    "The Beaches\n",
    "43.676357\n",
    "-79.293031\n",
    "Glen Manor Ravine\n",
    "43.676821\n",
    "-79.293942\n",
    "Trail\n",
    "1\n",
    "The Beaches\n",
    "43.676357\n",
    "-79.293031\n",
    "The Big Carrot Natural Food Market\n",
    "43.678879\n",
    "-79.297734\n",
    "Health Food Store\n",
    "2\n",
    "The Beaches\n",
    "43.676357\n",
    "-79.293031\n",
    "Grover Pub and Grub\n",
    "43.679181\n",
    "-79.297215\n",
    "Pub\n",
    "3\n",
    "The Beaches\n",
    "43.676357\n",
    "-79.293031\n",
    "Upper Beaches\n",
    "43.680563\n",
    "-79.292869\n",
    "Neighborhood\n",
    "4\n",
    "The Danforth West / Riverdale\n",
    "43.679557\n",
    "-79.352188\n",
    "Pantheon\n",
    "43.677621\n",
    "-79.351434\n",
    "Greek Restaurant\n"
   ]
  }
 ],
 "metadata": {
  "kernelspec": {
   "display_name": "Python 3",
   "language": "python",
   "name": "python3"
  },
  "language_info": {
   "codemirror_mode": {
    "name": "ipython",
    "version": 3
   },
   "file_extension": ".py",
   "mimetype": "text/x-python",
   "name": "python",
   "nbconvert_exporter": "python",
   "pygments_lexer": "ipython3",
   "version": "3.7.5"
  }
 },
 "nbformat": 4,
 "nbformat_minor": 2
}
