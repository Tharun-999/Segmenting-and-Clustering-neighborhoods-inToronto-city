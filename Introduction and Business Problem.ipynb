{
 "cells": [
  {
   "cell_type": "markdown",
   "metadata": {},
   "source": [
    "# The Battle of Neighbourhoods (Week 1):"
   ]
  },
  {
   "cell_type": "markdown",
   "metadata": {},
   "source": [
    "# Introduction & Business Problem :"
   ]
  },
  {
   "cell_type": "markdown",
   "metadata": {},
   "source": [
    "# Problem Background:\n",
    "The City of Toronto, is the most populous city in the Canada. Toronto is the provincial capital of Ontario. It is multicultural. It provides lot of business oppourtunities and business friendly environment. It has attracted many different players into the market.  The city is a major center for banking and finance, retailing, world trade, transportation, tourism, real estate, new media, traditional media, advertising, legal services, accountancy, insurance, theater, fashion, and the arts in the Canada.\n",
    "\n",
    "This also means that the market is highly competitive. As it is highly developed city so cost of doing business is also one of the highest. Thus, any new business venture or expansion needs to be analysed carefully. The insights derived from analysis will give good understanding of the business environment which help in strategically targeting the market. This will help in reduction of risk. And the Return on Investment will be reasonable."
   ]
  },
  {
   "cell_type": "markdown",
   "metadata": {},
   "source": [
    "# Problem Description: \n",
    "A restaurant is a business which prepares and serves food and drink to customers in return for money, either paid before the meal, after the meal, or with an open account. The City of New York is famous for its excelllent cuisine. It's food culture includes an array of international cuisines influenced by the city's immigrant history.\n"
   ]
  },
  {
   "cell_type": "markdown",
   "metadata": {},
   "source": [
    "1.Poutine (51%) \n",
    "\n",
    "2.ontreal-style bagels(14%)\n",
    "\n",
    "3.Salmon jerky (dried smoked salmon) (11%)\n",
    "\n",
    "4.Perogy/ Pierogi(10%) \n",
    "\n",
    "5.Ketchup Chips (7%) \n",
    "\n",
    "6.Nova scotian Donar(4%) \n",
    "\n",
    "7.California roll (1%)"
   ]
  },
  {
   "cell_type": "markdown",
   "metadata": {},
   "source": [
    "#So it is evident that to survive in such competitive market it is very important to startegically plan. Various factors need to be studied inorder to decide on the Location such as : \n",
    "\n",
    "    • Toronto city Population \n",
    "    • Toronto City Demographics \n",
    "    • Are there any Farmers Markets, Wholesale markets etc nearby so that the ingredients can be purchased fresh to maintain quality and cost?"
   ]
  },
  {
   "cell_type": "markdown",
   "metadata": {},
   "source": [
    "  • Are there any venues like Gyms, Entertainmnet zones, Parks etc nearby where floating population is high etc \n",
    "  \n",
    "    • Who are the competitors in that location?\n",
    "    \n",
    "    • Cuisine served / Menu of the competitors \n",
    "    \n",
    "    • Segmentation of the Borough \n",
    "    \n",
    "    • Untapped markets \n",
    "    \n",
    "    • Saturated markets etc\n",
    "    \n",
    "Eventhough well funded XYZ Company Ltd. need to choose the correct location to start its first venture.If this is successful they can replicate the same in other locations. First move is very important, thereby choice of location is very important."
   ]
  },
  {
   "cell_type": "markdown",
   "metadata": {},
   "source": [
    "# Target Audience: \n",
    "To recommend the correct location, XYZ Company Ltd has appointed me to lead of the Data Science team. The objective is to locate and recommend to the management which neighborhood of Toronto city will be best choice to start a restaurant. The Management also expects to understand the rationale of the recommendations made.\n",
    "This would interest anyone who wants to start a new restaurant in Toronto City."
   ]
  },
  {
   "cell_type": "markdown",
   "metadata": {},
   "source": [
    "# Success Criteria: \n",
    "The success criteria of the project will be a good recommendation of borough/Neighborhood choice to XYZ Company Ltd based on Lack of such restaurants in that location and nearest suppliers of ingredients."
   ]
  }
 ],
 "metadata": {
  "kernelspec": {
   "display_name": "Python 3",
   "language": "python",
   "name": "python3"
  },
  "language_info": {
   "codemirror_mode": {
    "name": "ipython",
    "version": 3
   },
   "file_extension": ".py",
   "mimetype": "text/x-python",
   "name": "python",
   "nbconvert_exporter": "python",
   "pygments_lexer": "ipython3",
   "version": "3.7.5"
  }
 },
 "nbformat": 4,
 "nbformat_minor": 2
}
